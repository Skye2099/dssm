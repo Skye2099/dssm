{
 "cells": [
  {
   "cell_type": "code",
   "execution_count": 1,
   "id": "e3c671f1-463e-4956-9891-e4eb92b0a802",
   "metadata": {},
   "outputs": [],
   "source": [
    "from preprocessing.utils import get_video_embedding_from_vid,get_qn_video_path"
   ]
  },
  {
   "cell_type": "code",
   "execution_count": 2,
   "id": "3cd04111-a6c6-4870-bed0-0cfa7d8d2bd5",
   "metadata": {},
   "outputs": [],
   "source": [
    "train = pd.read_csv('named_train_v2.csv')"
   ]
  },
  {
   "cell_type": "code",
   "execution_count": 6,
   "id": "f9e4b078-8da0-4e77-b6c6-234138bc2e46",
   "metadata": {},
   "outputs": [
    {
     "data": {
      "text/plain": [
       "Unnamed: 0      86565\n",
       "Unnamed: 0.1    86565\n",
       "Unnamed: 0_x    86565\n",
       "uid             86565\n",
       "tag             86565\n",
       "                ...  \n",
       "甘肃省             86565\n",
       "新疆维吾尔自治区        86565\n",
       "宁夏回族自治区         86565\n",
       "西藏自治区           86565\n",
       "青海省             86565\n",
       "Length: 150, dtype: int64"
      ]
     },
     "execution_count": 6,
     "metadata": {},
     "output_type": "execute_result"
    }
   ],
   "source": [
    "train[train['tag']==0].count()"
   ]
  },
  {
   "cell_type": "code",
   "execution_count": 45,
   "id": "741c9d06-e618-4bc0-ba3c-bd9a6cfb7030",
   "metadata": {},
   "outputs": [
    {
     "name": "stdout",
     "output_type": "stream",
     "text": [
      "(0, 'a') <class 'tuple'>\n",
      "(1, 's') <class 'tuple'>\n",
      "(2, 'f') <class 'tuple'>\n",
      "(3, 'e') <class 'tuple'>\n",
      "(0, 'shanghai') <class 'tuple'>\n",
      "(1, 'beijing') <class 'tuple'>\n",
      "(2, 'shenzheng') <class 'tuple'>\n"
     ]
    }
   ],
   "source": [
    "a=enumerate('asfe')\n",
    "for i in a:\n",
    "    print(i,type(i))\n",
    "b=enumerate(['shanghai','beijing','shenzheng'])\n",
    "for i in b:\n",
    "     print(i,type(i))"
   ]
  },
  {
   "cell_type": "code",
   "execution_count": 80,
   "id": "a98f539b-dac9-4db2-920a-b2702e0b0efb",
   "metadata": {},
   "outputs": [
    {
     "name": "stderr",
     "output_type": "stream",
     "text": [
      "  0%|          | 0/50 [00:00<?, ?it/s]\n"
     ]
    },
    {
     "ename": "AttributeError",
     "evalue": "'int' object has no attribute 'decode'",
     "output_type": "error",
     "traceback": [
      "\u001b[0;31m---------------------------------------------------------------------------\u001b[0m",
      "\u001b[0;31mAttributeError\u001b[0m                            Traceback (most recent call last)",
      "\u001b[0;32m<ipython-input-80-5324291bc601>\u001b[0m in \u001b[0;36m<module>\u001b[0;34m\u001b[0m\n\u001b[1;32m      8\u001b[0m \u001b[0;31m#         pass\u001b[0m\u001b[0;34m\u001b[0m\u001b[0;34m\u001b[0m\u001b[0;34m\u001b[0m\u001b[0m\n\u001b[1;32m      9\u001b[0m \u001b[0;32mfor\u001b[0m \u001b[0mi\u001b[0m\u001b[0;34m,\u001b[0m\u001b[0mv\u001b[0m \u001b[0;32min\u001b[0m \u001b[0mloop\u001b[0m\u001b[0;34m:\u001b[0m\u001b[0;34m\u001b[0m\u001b[0;34m\u001b[0m\u001b[0m\n\u001b[0;32m---> 10\u001b[0;31m     \u001b[0mtqdm\u001b[0m\u001b[0;34m.\u001b[0m\u001b[0mwrite\u001b[0m\u001b[0;34m(\u001b[0m\u001b[0mi\u001b[0m\u001b[0;34m)\u001b[0m\u001b[0;34m\u001b[0m\u001b[0;34m\u001b[0m\u001b[0m\n\u001b[0m",
      "\u001b[0;32m/opt/conda/lib/python3.7/site-packages/tqdm/std.py\u001b[0m in \u001b[0;36mwrite\u001b[0;34m(cls, s, file, end, nolock)\u001b[0m\n\u001b[1;32m    617\u001b[0m         \u001b[0;32mwith\u001b[0m \u001b[0mcls\u001b[0m\u001b[0;34m.\u001b[0m\u001b[0mexternal_write_mode\u001b[0m\u001b[0;34m(\u001b[0m\u001b[0mfile\u001b[0m\u001b[0;34m=\u001b[0m\u001b[0mfile\u001b[0m\u001b[0;34m,\u001b[0m \u001b[0mnolock\u001b[0m\u001b[0;34m=\u001b[0m\u001b[0mnolock\u001b[0m\u001b[0;34m)\u001b[0m\u001b[0;34m:\u001b[0m\u001b[0;34m\u001b[0m\u001b[0;34m\u001b[0m\u001b[0m\n\u001b[1;32m    618\u001b[0m             \u001b[0;31m# Write the message\u001b[0m\u001b[0;34m\u001b[0m\u001b[0;34m\u001b[0m\u001b[0;34m\u001b[0m\u001b[0m\n\u001b[0;32m--> 619\u001b[0;31m             \u001b[0mfp\u001b[0m\u001b[0;34m.\u001b[0m\u001b[0mwrite\u001b[0m\u001b[0;34m(\u001b[0m\u001b[0ms\u001b[0m\u001b[0;34m)\u001b[0m\u001b[0;34m\u001b[0m\u001b[0;34m\u001b[0m\u001b[0m\n\u001b[0m\u001b[1;32m    620\u001b[0m             \u001b[0mfp\u001b[0m\u001b[0;34m.\u001b[0m\u001b[0mwrite\u001b[0m\u001b[0;34m(\u001b[0m\u001b[0mend\u001b[0m\u001b[0;34m)\u001b[0m\u001b[0;34m\u001b[0m\u001b[0;34m\u001b[0m\u001b[0m\n\u001b[1;32m    621\u001b[0m \u001b[0;34m\u001b[0m\u001b[0m\n",
      "\u001b[0;32m/opt/conda/lib/python3.7/site-packages/ipykernel/iostream.py\u001b[0m in \u001b[0;36mwrite\u001b[0;34m(self, string)\u001b[0m\n\u001b[1;32m    396\u001b[0m             \u001b[0;31m# Make sure that we're handling unicode\u001b[0m\u001b[0;34m\u001b[0m\u001b[0;34m\u001b[0m\u001b[0;34m\u001b[0m\u001b[0m\n\u001b[1;32m    397\u001b[0m             \u001b[0;32mif\u001b[0m \u001b[0;32mnot\u001b[0m \u001b[0misinstance\u001b[0m\u001b[0;34m(\u001b[0m\u001b[0mstring\u001b[0m\u001b[0;34m,\u001b[0m \u001b[0mstr\u001b[0m\u001b[0;34m)\u001b[0m\u001b[0;34m:\u001b[0m\u001b[0;34m\u001b[0m\u001b[0;34m\u001b[0m\u001b[0m\n\u001b[0;32m--> 398\u001b[0;31m                 \u001b[0mstring\u001b[0m \u001b[0;34m=\u001b[0m \u001b[0mstring\u001b[0m\u001b[0;34m.\u001b[0m\u001b[0mdecode\u001b[0m\u001b[0;34m(\u001b[0m\u001b[0mself\u001b[0m\u001b[0;34m.\u001b[0m\u001b[0mencoding\u001b[0m\u001b[0;34m,\u001b[0m \u001b[0;34m'replace'\u001b[0m\u001b[0;34m)\u001b[0m\u001b[0;34m\u001b[0m\u001b[0;34m\u001b[0m\u001b[0m\n\u001b[0m\u001b[1;32m    399\u001b[0m \u001b[0;34m\u001b[0m\u001b[0m\n\u001b[1;32m    400\u001b[0m             \u001b[0mis_child\u001b[0m \u001b[0;34m=\u001b[0m \u001b[0;34m(\u001b[0m\u001b[0;32mnot\u001b[0m \u001b[0mself\u001b[0m\u001b[0;34m.\u001b[0m\u001b[0m_is_master_process\u001b[0m\u001b[0;34m(\u001b[0m\u001b[0;34m)\u001b[0m\u001b[0;34m)\u001b[0m\u001b[0;34m\u001b[0m\u001b[0;34m\u001b[0m\u001b[0m\n",
      "\u001b[0;31mAttributeError\u001b[0m: 'int' object has no attribute 'decode'"
     ]
    }
   ],
   "source": [
    "from toad.utils import Progress\n",
    "from tqdm import tqdm\n",
    "loop = tqdm(enumerate(range(50)),total=len(range(50)))\n",
    "# with (enumerate(range(20)),total=len(range(20))) as t:\n",
    "#     for _,x in t:\n",
    "#         time.sleep(1)\n",
    "#         tqdm.write('x')\n",
    "#         pass\n",
    "for i,v in loop:\n",
    "    tqdm.write(i)"
   ]
  },
  {
   "cell_type": "code",
   "execution_count": 70,
   "id": "2f09cf8e-583f-4a9b-91e6-9a84edf4ad96",
   "metadata": {},
   "outputs": [
    {
     "ename": "SyntaxError",
     "evalue": "invalid syntax (<ipython-input-70-af2e34f40878>, line 3)",
     "output_type": "error",
     "traceback": [
      "\u001b[0;36m  File \u001b[0;32m\"<ipython-input-70-af2e34f40878>\"\u001b[0;36m, line \u001b[0;32m3\u001b[0m\n\u001b[0;31m    for x in p:\u001b[0m\n\u001b[0m              ^\u001b[0m\n\u001b[0;31mSyntaxError\u001b[0m\u001b[0;31m:\u001b[0m invalid syntax\n"
     ]
    }
   ],
   "source": [
    "from toad.utils import Progress\n",
    "p = Progress(enumerate(range(20))\n",
    "for x in [1,2]:\n",
    "             \n",
    "# with (enumerate(range(20)),total=len(range(20))) as t:\n",
    "#     for _,x in t:\n",
    "#         time.sleep(1)\n",
    "#         tqdm.write('x')\n",
    "#         pass"
   ]
  },
  {
   "cell_type": "code",
   "execution_count": 76,
   "id": "698d6173-9063-4506-9a29-7e7f14297bf8",
   "metadata": {},
   "outputs": [
    {
     "name": "stdout",
     "output_type": "stream",
     "text": [
      " 100%|$$$$$$$$$$$$$$$$| [20/20] 20.04s 19\n"
     ]
    }
   ],
   "source": [
    "from toad.utils import Progress\n",
    "p = Progress(enumerate(range(20)),size=len(range(20)))\n",
    "p.SYMBOL_DONE = '$'\n",
    "\n",
    "for index,x in p:\n",
    "    p.suffix = index\n",
    "    time.sleep(1)\n"
   ]
  },
  {
   "cell_type": "code",
   "execution_count": 64,
   "id": "f6bb8fc8-8b24-41f0-afbb-fb0627021d34",
   "metadata": {},
   "outputs": [
    {
     "data": {
      "text/plain": [
       "20"
      ]
     },
     "execution_count": 64,
     "metadata": {},
     "output_type": "execute_result"
    }
   ],
   "source": [
    "len(range(20))"
   ]
  },
  {
   "cell_type": "code",
   "execution_count": null,
   "id": "fe869283-9ea7-4c70-ad3d-69e272c643dc",
   "metadata": {},
   "outputs": [],
   "source": []
  },
  {
   "cell_type": "raw",
   "id": "d9fa681d-772f-4f82-ac43-1de49fbfa092",
   "metadata": {},
   "source": [
    "train.count()"
   ]
  },
  {
   "cell_type": "code",
   "execution_count": 4,
   "id": "a1d10a24-8707-4efb-9f45-cc6cead60721",
   "metadata": {},
   "outputs": [],
   "source": [
    "a=train['id_x'].unique()"
   ]
  },
  {
   "cell_type": "code",
   "execution_count": null,
   "id": "4679684e-c246-45e4-ba04-ab5e0838637d",
   "metadata": {},
   "outputs": [],
   "source": []
  },
  {
   "cell_type": "code",
   "execution_count": 5,
   "id": "8a75bba5-0bea-4a3a-83d2-91888ef814f9",
   "metadata": {},
   "outputs": [
    {
     "name": "stdout",
     "output_type": "stream",
     "text": [
      "last cnt: 0\n",
      "[]\n"
     ]
    }
   ],
   "source": [
    "cnt = 0\n",
    "lst = []\n",
    "for video_name in a:\n",
    "    flag = os.path.exists(f'/opt/tml/tmp/dataphin-data/video/videoembedding/v1/{video_name}/embedding.pth')\n",
    "    if not flag:\n",
    "#         print(video_name)\n",
    "        flag_2 = os.path.exists(f'/opt/user-datasets/media/{video_name}.mp4')\n",
    "        if not flag_2:\n",
    "            print(video_name,' mp4 file not exists!')\n",
    "        else:\n",
    "            lst.append(f'/opt/user-datasets/media/{video_name}.mp4')\n",
    "        cnt +=1\n",
    "print('last cnt:',cnt)\n",
    "print(lst)"
   ]
  },
  {
   "cell_type": "code",
   "execution_count": null,
   "id": "8c38844a-7fcb-4cc4-abee-a4ff5dd4129c",
   "metadata": {},
   "outputs": [],
   "source": [
    "train.to_csv('named_train_v2.csv')"
   ]
  },
  {
   "cell_type": "code",
   "execution_count": null,
   "id": "505c08a5-7033-4b97-bfe5-2df09c092434",
   "metadata": {},
   "outputs": [],
   "source": []
  },
  {
   "cell_type": "code",
   "execution_count": 10,
   "id": "c9e5f82f-aba5-4839-9ba2-84282bdf3c0a",
   "metadata": {},
   "outputs": [],
   "source": [
    "# 样本表 ids 转 name\n",
    "# train['id_x']=train['id_x'].astype(str)\n",
    "# for i,row in train['id_x'].iteritems():\n",
    "#     print(i,row)\n",
    "#     name_ = get_qn_video_path(row)\n",
    "#     name = name_.split('/')[-1].split('.')[0]\n",
    "#     train.at[i,'id_x'] = name"
   ]
  },
  {
   "cell_type": "code",
   "execution_count": null,
   "id": "4bf5e226-c4b2-4ad9-bb4e-9e4ab02c210e",
   "metadata": {},
   "outputs": [],
   "source": []
  }
 ],
 "metadata": {
  "kernelspec": {
   "display_name": "Python 3",
   "language": "python",
   "name": "python3"
  },
  "language_info": {
   "codemirror_mode": {
    "name": "ipython",
    "version": 3
   },
   "file_extension": ".py",
   "mimetype": "text/x-python",
   "name": "python",
   "nbconvert_exporter": "python",
   "pygments_lexer": "ipython3",
   "version": "3.7.12"
  }
 },
 "nbformat": 4,
 "nbformat_minor": 5
}
